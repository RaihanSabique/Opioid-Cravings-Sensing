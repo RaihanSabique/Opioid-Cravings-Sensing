{
 "cells": [
  {
   "cell_type": "code",
   "execution_count": null,
   "metadata": {},
   "outputs": [],
   "source": [
    "%matplotlib inline"
   ]
  },
  {
   "cell_type": "markdown",
   "metadata": {},
   "source": [
    "\n",
    "\n",
    "# Reading XDF EEG data\n",
    "\n",
    "Here we read some sample XDF data. Although we do not analyze it here, this\n",
    "recording is of a short parallel auditory response (pABR) experiment\n",
    ":footcite:`PolonenkoMaddox2019` and was provided by the `Maddox Lab\n",
    "<https://www.urmc.rochester.edu/labs/maddox.aspx>`__.\n"
   ]
  },
  {
   "cell_type": "code",
   "execution_count": null,
   "metadata": {},
   "outputs": [],
   "source": [
    "# Authors: Clemens Brunner <clemens.brunner@gmail.com>\n",
    "#          Eric Larson <larson.eric.d@gmail.com>\n",
    "#\n",
    "# License: BSD-3-Clause"
   ]
  },
  {
   "cell_type": "code",
   "execution_count": null,
   "metadata": {},
   "outputs": [
    {
     "name": "stdout",
     "output_type": "stream",
     "text": [
      "Using default location ~/mne_data for misc...\n",
      "Dataset misc version 0.0 out of date, latest version is 0.23\n"
     ]
    },
    {
     "name": "stderr",
     "output_type": "stream",
     "text": [
      "Downloading file 'mne-misc-data-0.23.tar.gz' from 'https://codeload.github.com/mne-tools/mne-misc-data/tar.gz/0.23' to '/home/raihan/mne_data'.\n",
      "132MB [01:30, 1.48MB/s] "
     ]
    }
   ],
   "source": [
    "import os.path as op\n",
    "\n",
    "import pyxdf\n",
    "\n",
    "import mne\n",
    "from mne.datasets import misc\n",
    "\n",
    "fname = op.join(\n",
    "    misc.data_path(), 'xdf',\n",
    "    'sub-P001_ses-S004_task-Default_run-001_eeg_a2.xdf')\n",
    "streams, header = pyxdf.load_xdf(fname)\n",
    "data = streams[0][\"time_series\"].T\n",
    "assert data.shape[0] == 5  # four raw EEG plus one stim channel\n",
    "data[:4:2] -= data[1:4:2]  # subtract (rereference) to get two bipolar EEG\n",
    "data = data[::2]  # subselect\n",
    "data[:2] *= (1e-6 / 50 / 2)  # uV -> V and preamp gain\n",
    "sfreq = float(streams[0][\"info\"][\"nominal_srate\"][0])\n",
    "info = mne.create_info(3, sfreq, [\"eeg\", \"eeg\", \"stim\"])\n",
    "raw = mne.io.RawArray(data, info)\n",
    "raw.plot(scalings=dict(eeg=100e-6), duration=1, start=14)"
   ]
  },
  {
   "cell_type": "markdown",
   "metadata": {},
   "source": [
    "## References\n",
    ".. footbibliography::\n",
    "\n"
   ]
  }
 ],
 "metadata": {
  "kernelspec": {
   "display_name": "Python 3",
   "language": "python",
   "name": "python3"
  },
  "language_info": {
   "codemirror_mode": {
    "name": "ipython",
    "version": 3
   },
   "file_extension": ".py",
   "mimetype": "text/x-python",
   "name": "python",
   "nbconvert_exporter": "python",
   "pygments_lexer": "ipython3",
   "version": "3.8.5"
  }
 },
 "nbformat": 4,
 "nbformat_minor": 1
}
